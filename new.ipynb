{
 "cells": [
  {
   "cell_type": "code",
   "execution_count": 8,
   "source": [
    "from sys import path\r\n",
    "from selenium import webdriver\r\n",
    "from selenium.webdriver.common.keys import Keys\r\n",
    "from selenium.webdriver.common.by import By\r\n",
    "from selenium.webdriver.support.ui import WebDriverWait\r\n",
    "from selenium.webdriver.support import expected_conditions as EC\r\n",
    "from selenium.webdriver.support.ui import Select\r\n",
    "from webdriver_manager.chrome import ChromeDriverManager\r\n",
    "import os\r\n",
    "import time\r\n"
   ],
   "outputs": [],
   "metadata": {}
  },
  {
   "cell_type": "code",
   "execution_count": 9,
   "source": [
    "\r\n",
    "PATH = './chromedriver.exe'  # this is for chrome version 93  download from https://sites.google.com/a/chromium.org/chromedriver/downloads and put it in the same folder as this file\r\n",
    "# you can view chrome version in chrome://version, paste this in url bar and see the version number and downlaod corresponding version of chromedriver\r\n",
    "CHROME_PATH = \"\\\\AppData\\\\Local\\\\Google\\\\Chrome\\\\User Data\\\\Default\"\r\n",
    "EMAIL_INPUT_XPATH = '//*[@id=\"react-root\"]/div/div/div[2]/main/div/div/div[2]/form/div/div[1]/label/div/div[2]/div/input'\r\n",
    "PSWD_INPUT_XPATH = '//*[@id=\"react-root\"]/div/div/div[2]/main/div/div/div[2]/form/div/div[2]/label/div/div[2]/div/input'\r\n",
    "TWEET_INPUT_FIELD = '//*[@id=\"react-root\"]/div/div/div[2]/main/div/div/div/div/div/div[2]/div/div[2]/div[1]/div/div/div/div[2]/div[1]/div/div/div/div/div/div/div/div/div/label/div[1]/div/div/div/div/div[2]/div'\r\n",
    "SCHEDULE_BUTTON = '//*[@id=\"react-root\"]/div/div/div[2]/main/div/div/div/div/div/div[2]/div/div[2]/div[1]/div/div/div/div[2]/div[3]/div/div/div[1]/div[5]'\r\n",
    "SELECT_HOUR = '//*[@id=\"SELECTOR_4\"]'\r\n",
    "SELECT_MINUTE = '//*[@id=\"SELECTOR_5\"]'\r\n",
    "SELECT_AM_PM = '//*[@id=\"SELECTOR_6\"]'\r\n",
    "SCHEDULE_SUBMIT = '//*[@id=\"layers\"]/div[2]/div/div/div/div/div/div[2]/div[2]/div/div[1]/div/div/div/div[3]/div/div'\r\n",
    "TWEET_BUTTON = '//*[@id=\"react-root\"]/div/div/div[2]/main/div/div/div/div[1]/div/div[2]/div/div[2]/div[1]/div/div/div/div[2]/div[4]/div/div/div[2]/div[4]'\r\n",
    "\r\n",
    "options = webdriver.ChromeOptions()\r\n",
    "options.add_argument(\"user-data-dir=\" + os.path.expanduser('~') + CHROME_PATH)\r\n",
    "options.add_argument('--window-size=1920,1080')\r\n",
    "driver = webdriver.Chrome(\r\n",
    "    executable_path=ChromeDriverManager().install(), options=options)\r\n",
    "driver.get('https://twitter.com/login')\r\n"
   ],
   "outputs": [
    {
     "output_type": "stream",
     "name": "stderr",
     "text": [
      "\n",
      "\n",
      "====== WebDriver manager ======\n",
      "Current google-chrome version is 93.0.4577\n",
      "Get LATEST driver version for 93.0.4577\n",
      "Driver [C:\\Users\\Admin\\.wdm\\drivers\\chromedriver\\win32\\93.0.4577.63\\chromedriver.exe] found in cache\n"
     ]
    }
   ],
   "metadata": {}
  },
  {
   "cell_type": "code",
   "execution_count": null,
   "source": [
    "from selenium.common.exceptions import NoSuchElementException"
   ],
   "outputs": [],
   "metadata": {}
  },
  {
   "cell_type": "code",
   "execution_count": null,
   "source": [
    "def check_exists_by_xpath(xpath):\r\n",
    "    try:\r\n",
    "        driver.find_element_by_xpath(xpath)\r\n",
    "    except NoSuchElementException:\r\n",
    "        return False\r\n",
    "    return True"
   ],
   "outputs": [],
   "metadata": {}
  },
  {
   "cell_type": "code",
   "execution_count": null,
   "source": [
    "check_exists_by_xpath(EMAIL_INPUT_XPATH)"
   ],
   "outputs": [
    {
     "output_type": "execute_result",
     "data": {
      "text/plain": [
       "False"
      ]
     },
     "metadata": {},
     "execution_count": 8
    }
   ],
   "metadata": {}
  },
  {
   "cell_type": "code",
   "execution_count": null,
   "source": [
    "str = 'ಕವನ ಸಿಂಚನ'\r\n",
    "\r\n",
    "print(str)"
   ],
   "outputs": [
    {
     "output_type": "stream",
     "name": "stdout",
     "text": [
      "ಕವನ ಸಿಂಚನ\n"
     ]
    }
   ],
   "metadata": {}
  },
  {
   "cell_type": "code",
   "execution_count": null,
   "source": [
    "import pandas as pd\r\n",
    "import os\r\n",
    "import time\r\n",
    "tweets = pd.read_excel('tweet.xlsx')\r\n",
    "tweets"
   ],
   "outputs": [
    {
     "output_type": "execute_result",
     "data": {
      "text/html": [
       "<div>\n",
       "<style scoped>\n",
       "    .dataframe tbody tr th:only-of-type {\n",
       "        vertical-align: middle;\n",
       "    }\n",
       "\n",
       "    .dataframe tbody tr th {\n",
       "        vertical-align: top;\n",
       "    }\n",
       "\n",
       "    .dataframe thead th {\n",
       "        text-align: right;\n",
       "    }\n",
       "</style>\n",
       "<table border=\"1\" class=\"dataframe\">\n",
       "  <thead>\n",
       "    <tr style=\"text-align: right;\">\n",
       "      <th></th>\n",
       "      <th>date</th>\n",
       "      <th>time</th>\n",
       "      <th>tweet</th>\n",
       "    </tr>\n",
       "  </thead>\n",
       "  <tbody>\n",
       "    <tr>\n",
       "      <th>0</th>\n",
       "      <td>2021-12-01</td>\n",
       "      <td>4:49:PM</td>\n",
       "      <td>ರಾಷ್ಟ್ರೀಯ ಶಿಕ್ಷಣ ನೀತಿಯಿಂದ ವಿದ್ಯಾರ್ಥಿಗಳಿಗೆ ಉದ್ಯ...</td>\n",
       "    </tr>\n",
       "    <tr>\n",
       "      <th>1</th>\n",
       "      <td>2021-12-02</td>\n",
       "      <td>4:49:PM</td>\n",
       "      <td>ರಾಷ್ಟ್ರೀಯ ಶಿಕ್ಷಣ ನೀತಿಯಿಂದ ವಿದ್ಯಾರ್ಥಿಗಳಿಗೆ ಉದ್ಯ...</td>\n",
       "    </tr>\n",
       "    <tr>\n",
       "      <th>2</th>\n",
       "      <td>2021-12-03</td>\n",
       "      <td>4:49:PM</td>\n",
       "      <td>ರಾಷ್ಟ್ರೀಯ ಶಿಕ್ಷಣ ನೀತಿಯಿಂದ ವಿದ್ಯಾರ್ಥಿಗಳಿಗೆ ಉದ್ಯ...</td>\n",
       "    </tr>\n",
       "    <tr>\n",
       "      <th>3</th>\n",
       "      <td>2021-12-04</td>\n",
       "      <td>4:49:PM</td>\n",
       "      <td>ರಾಷ್ಟ್ರೀಯ ಶಿಕ್ಷಣ ನೀತಿಯಿಂದ ವಿದ್ಯಾರ್ಥಿಗಳಿಗೆ ಉದ್ಯ...</td>\n",
       "    </tr>\n",
       "    <tr>\n",
       "      <th>4</th>\n",
       "      <td>2021-12-05</td>\n",
       "      <td>4:49:PM</td>\n",
       "      <td>ರಾಷ್ಟ್ರೀಯ ಶಿಕ್ಷಣ ನೀತಿಯಿಂದ ವಿದ್ಯಾರ್ಥಿಗಳಿಗೆ ಉದ್ಯ...</td>\n",
       "    </tr>\n",
       "    <tr>\n",
       "      <th>5</th>\n",
       "      <td>2021-12-06</td>\n",
       "      <td>4:49:PM</td>\n",
       "      <td>ರಾಷ್ಟ್ರೀಯ ಶಿಕ್ಷಣ ನೀತಿಯಿಂದ ವಿದ್ಯಾರ್ಥಿಗಳಿಗೆ ಉದ್ಯ...</td>\n",
       "    </tr>\n",
       "  </tbody>\n",
       "</table>\n",
       "</div>"
      ],
      "text/plain": [
       "        date     time                                              tweet\n",
       "0 2021-12-01  4:49:PM  ರಾಷ್ಟ್ರೀಯ ಶಿಕ್ಷಣ ನೀತಿಯಿಂದ ವಿದ್ಯಾರ್ಥಿಗಳಿಗೆ ಉದ್ಯ...\n",
       "1 2021-12-02  4:49:PM  ರಾಷ್ಟ್ರೀಯ ಶಿಕ್ಷಣ ನೀತಿಯಿಂದ ವಿದ್ಯಾರ್ಥಿಗಳಿಗೆ ಉದ್ಯ...\n",
       "2 2021-12-03  4:49:PM  ರಾಷ್ಟ್ರೀಯ ಶಿಕ್ಷಣ ನೀತಿಯಿಂದ ವಿದ್ಯಾರ್ಥಿಗಳಿಗೆ ಉದ್ಯ...\n",
       "3 2021-12-04  4:49:PM  ರಾಷ್ಟ್ರೀಯ ಶಿಕ್ಷಣ ನೀತಿಯಿಂದ ವಿದ್ಯಾರ್ಥಿಗಳಿಗೆ ಉದ್ಯ...\n",
       "4 2021-12-05  4:49:PM  ರಾಷ್ಟ್ರೀಯ ಶಿಕ್ಷಣ ನೀತಿಯಿಂದ ವಿದ್ಯಾರ್ಥಿಗಳಿಗೆ ಉದ್ಯ...\n",
       "5 2021-12-06  4:49:PM  ರಾಷ್ಟ್ರೀಯ ಶಿಕ್ಷಣ ನೀತಿಯಿಂದ ವಿದ್ಯಾರ್ಥಿಗಳಿಗೆ ಉದ್ಯ..."
      ]
     },
     "metadata": {},
     "execution_count": 10
    }
   ],
   "metadata": {}
  },
  {
   "cell_type": "code",
   "execution_count": 29,
   "source": [
    "for key, tweet in tweets.iterrows():\r\n",
    "    a = tweet['date']\r\n"
   ],
   "outputs": [],
   "metadata": {}
  },
  {
   "cell_type": "code",
   "execution_count": 31,
   "source": [
    "\r\n",
    "type(a) == pd._libs.tslibs.timestamps.Timestamp"
   ],
   "outputs": [
    {
     "output_type": "execute_result",
     "data": {
      "text/plain": [
       "True"
      ]
     },
     "metadata": {},
     "execution_count": 31
    }
   ],
   "metadata": {}
  },
  {
   "cell_type": "code",
   "execution_count": 7,
   "source": [
    "os.path.expanduser('~')"
   ],
   "outputs": [
    {
     "output_type": "execute_result",
     "data": {
      "text/plain": [
       "'C:\\\\Users\\\\Admin'"
      ]
     },
     "metadata": {},
     "execution_count": 7
    }
   ],
   "metadata": {}
  },
  {
   "cell_type": "code",
   "execution_count": 21,
   "source": [
    "import random \r\n",
    "random.randint(3, 9)"
   ],
   "outputs": [
    {
     "output_type": "execute_result",
     "data": {
      "text/plain": [
       "9"
      ]
     },
     "metadata": {},
     "execution_count": 21
    }
   ],
   "metadata": {}
  },
  {
   "cell_type": "code",
   "execution_count": 3,
   "source": [
    "for i in range(3, 6):\r\n",
    "    print(i)"
   ],
   "outputs": [
    {
     "output_type": "stream",
     "name": "stdout",
     "text": [
      "3\n",
      "4\n",
      "5\n"
     ]
    }
   ],
   "metadata": {}
  },
  {
   "cell_type": "code",
   "execution_count": 2,
   "source": [
    "\"000x000\".lstrip(\"0\")"
   ],
   "outputs": [
    {
     "output_type": "execute_result",
     "data": {
      "text/plain": [
       "'x000'"
      ]
     },
     "metadata": {},
     "execution_count": 2
    }
   ],
   "metadata": {}
  },
  {
   "cell_type": "code",
   "execution_count": 4,
   "source": [
    "'//*[@id=\"SELECTOR_{}\"]'.format(10)"
   ],
   "outputs": [
    {
     "output_type": "execute_result",
     "data": {
      "text/plain": [
       "'//*[@id=\"SELECTOR_10\"]'"
      ]
     },
     "metadata": {},
     "execution_count": 4
    }
   ],
   "metadata": {}
  },
  {
   "cell_type": "code",
   "execution_count": 7,
   "source": [
    "a= [ ]\r\n",
    "a=[1,2,4] + [3,4,5]\r\n",
    "a"
   ],
   "outputs": [
    {
     "output_type": "execute_result",
     "data": {
      "text/plain": [
       "[1, 2, 4, 3, 4, 5]"
      ]
     },
     "metadata": {},
     "execution_count": 7
    }
   ],
   "metadata": {}
  }
 ],
 "metadata": {
  "orig_nbformat": 4,
  "language_info": {
   "name": "python",
   "version": "3.8.8",
   "mimetype": "text/x-python",
   "codemirror_mode": {
    "name": "ipython",
    "version": 3
   },
   "pygments_lexer": "ipython3",
   "nbconvert_exporter": "python",
   "file_extension": ".py"
  },
  "kernelspec": {
   "name": "python3",
   "display_name": "Python 3.8.8 64-bit ('tweetSchedule': conda)"
  },
  "interpreter": {
   "hash": "052df8cfb8352986fd44647612afd4beae927984ddb650bdc6ede9718bd99935"
  }
 },
 "nbformat": 4,
 "nbformat_minor": 2
}